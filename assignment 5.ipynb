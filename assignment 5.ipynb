{
 "cells": [
  {
   "cell_type": "raw",
   "id": "012b0759",
   "metadata": {},
   "source": [
    "1)The empty dictioary look like d={}\n",
    "2)The value of dictionary with key foo and value 42 is 42\n",
    "3)The most significant distinction between dictionary and list is,\n",
    " list is a collection of datatypes similar like array but dictionary is collection of datatypes in Key value pair\n",
    " eg: li=[1,2,3,4.5,\"ineuron\"]\n",
    "     di={\"key1\":\"val1\",key2:val2,\"key3\":val3,key4:\"val4\"}\n",
    "4)if we try to access spam['foo'] from spam={'bar':100}\n",
    "we get an error as foo not defined\n",
    "5)The main difference is\n",
    "'cat' in spam : this expression returns true if \"cat\" is present in the place of keys in the spam dictionary\n",
    "'cat' in spam.values(): this expression returns true if \"cat\" is present in the place of values in the spam dictionary\n",
    "6) question repeated as question 5\n",
    "\n",
    "       "
   ]
  },
  {
   "cell_type": "code",
   "execution_count": 16,
   "id": "b33ad6e3",
   "metadata": {},
   "outputs": [
    {
     "name": "stdout",
     "output_type": "stream",
     "text": [
      "{'colour': 'black'}\n"
     ]
    }
   ],
   "source": [
    "#7)\n",
    "spam={}\n",
    "if \"colour\" not in spam:\n",
    "    spam['colour']='black'\n",
    "print(spam)"
   ]
  },
  {
   "cell_type": "code",
   "execution_count": 19,
   "id": "c39867ed",
   "metadata": {},
   "outputs": [
    {
     "name": "stdout",
     "output_type": "stream",
     "text": [
      "key1 : {'key1': 'sharan'} key1\n",
      "ineuron : {'ineuron': 30} ineuron\n"
     ]
    }
   ],
   "source": [
    "#8) pretty print dictionary is nothing but accessing the each and every nested dictionary separately. \n",
    "\n",
    "d={1:{\"key1\":\"sharan\"},2:{\"ineuron\":30}}\n",
    "for i in d:\n",
    "    for j in d[i]:\n",
    "        print(j,\":\",d[i],j)"
   ]
  },
  {
   "cell_type": "code",
   "execution_count": null,
   "id": "bed51cab",
   "metadata": {},
   "outputs": [],
   "source": []
  }
 ],
 "metadata": {
  "kernelspec": {
   "display_name": "Python 3 (ipykernel)",
   "language": "python",
   "name": "python3"
  },
  "language_info": {
   "codemirror_mode": {
    "name": "ipython",
    "version": 3
   },
   "file_extension": ".py",
   "mimetype": "text/x-python",
   "name": "python",
   "nbconvert_exporter": "python",
   "pygments_lexer": "ipython3",
   "version": "3.9.12"
  }
 },
 "nbformat": 4,
 "nbformat_minor": 5
}
